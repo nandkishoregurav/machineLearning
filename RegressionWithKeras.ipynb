{
 "cells": [
  {
   "cell_type": "markdown",
   "id": "d8a1bb42",
   "metadata": {},
   "source": []
  },
  {
   "cell_type": "code",
   "execution_count": 5,
   "id": "b7f57981",
   "metadata": {},
   "outputs": [
    {
     "data": {
      "text/html": [
       "<div>\n",
       "<style scoped>\n",
       "    .dataframe tbody tr th:only-of-type {\n",
       "        vertical-align: middle;\n",
       "    }\n",
       "\n",
       "    .dataframe tbody tr th {\n",
       "        vertical-align: top;\n",
       "    }\n",
       "\n",
       "    .dataframe thead th {\n",
       "        text-align: right;\n",
       "    }\n",
       "</style>\n",
       "<table border=\"1\" class=\"dataframe\">\n",
       "  <thead>\n",
       "    <tr style=\"text-align: right;\">\n",
       "      <th></th>\n",
       "      <th>Cement</th>\n",
       "      <th>Blast Furnace Slag</th>\n",
       "      <th>Fly Ash</th>\n",
       "      <th>Water</th>\n",
       "      <th>Superplasticizer</th>\n",
       "      <th>Coarse Aggregate</th>\n",
       "      <th>Fine Aggregate</th>\n",
       "      <th>Age</th>\n",
       "      <th>Strength</th>\n",
       "    </tr>\n",
       "  </thead>\n",
       "  <tbody>\n",
       "    <tr>\n",
       "      <th>0</th>\n",
       "      <td>540.0</td>\n",
       "      <td>0.0</td>\n",
       "      <td>0.0</td>\n",
       "      <td>162.0</td>\n",
       "      <td>2.5</td>\n",
       "      <td>1040.0</td>\n",
       "      <td>676.0</td>\n",
       "      <td>28</td>\n",
       "      <td>79.99</td>\n",
       "    </tr>\n",
       "    <tr>\n",
       "      <th>1</th>\n",
       "      <td>540.0</td>\n",
       "      <td>0.0</td>\n",
       "      <td>0.0</td>\n",
       "      <td>162.0</td>\n",
       "      <td>2.5</td>\n",
       "      <td>1055.0</td>\n",
       "      <td>676.0</td>\n",
       "      <td>28</td>\n",
       "      <td>61.89</td>\n",
       "    </tr>\n",
       "    <tr>\n",
       "      <th>2</th>\n",
       "      <td>332.5</td>\n",
       "      <td>142.5</td>\n",
       "      <td>0.0</td>\n",
       "      <td>228.0</td>\n",
       "      <td>0.0</td>\n",
       "      <td>932.0</td>\n",
       "      <td>594.0</td>\n",
       "      <td>270</td>\n",
       "      <td>40.27</td>\n",
       "    </tr>\n",
       "    <tr>\n",
       "      <th>3</th>\n",
       "      <td>332.5</td>\n",
       "      <td>142.5</td>\n",
       "      <td>0.0</td>\n",
       "      <td>228.0</td>\n",
       "      <td>0.0</td>\n",
       "      <td>932.0</td>\n",
       "      <td>594.0</td>\n",
       "      <td>365</td>\n",
       "      <td>41.05</td>\n",
       "    </tr>\n",
       "    <tr>\n",
       "      <th>4</th>\n",
       "      <td>198.6</td>\n",
       "      <td>132.4</td>\n",
       "      <td>0.0</td>\n",
       "      <td>192.0</td>\n",
       "      <td>0.0</td>\n",
       "      <td>978.4</td>\n",
       "      <td>825.5</td>\n",
       "      <td>360</td>\n",
       "      <td>44.30</td>\n",
       "    </tr>\n",
       "  </tbody>\n",
       "</table>\n",
       "</div>"
      ],
      "text/plain": [
       "   Cement  Blast Furnace Slag  Fly Ash  Water  Superplasticizer  \\\n",
       "0   540.0                 0.0      0.0  162.0               2.5   \n",
       "1   540.0                 0.0      0.0  162.0               2.5   \n",
       "2   332.5               142.5      0.0  228.0               0.0   \n",
       "3   332.5               142.5      0.0  228.0               0.0   \n",
       "4   198.6               132.4      0.0  192.0               0.0   \n",
       "\n",
       "   Coarse Aggregate  Fine Aggregate  Age  Strength  \n",
       "0            1040.0           676.0   28     79.99  \n",
       "1            1055.0           676.0   28     61.89  \n",
       "2             932.0           594.0  270     40.27  \n",
       "3             932.0           594.0  365     41.05  \n",
       "4             978.4           825.5  360     44.30  "
      ]
     },
     "execution_count": 5,
     "metadata": {},
     "output_type": "execute_result"
    }
   ],
   "source": [
    "#importing pandas and numpy to handle input data\n",
    "import pandas as pd\n",
    "import numpy as np\n",
    "data = pd.read_csv('https://cocl.us/concrete_data')\n",
    "data.head()"
   ]
  },
  {
   "cell_type": "raw",
   "id": "7e0c7aa7",
   "metadata": {},
   "source": [
    "Check size of data:"
   ]
  },
  {
   "cell_type": "code",
   "execution_count": 6,
   "id": "d772a872",
   "metadata": {},
   "outputs": [
    {
     "data": {
      "text/plain": [
       "(1030, 9)"
      ]
     },
     "execution_count": 6,
     "metadata": {},
     "output_type": "execute_result"
    }
   ],
   "source": [
    "data.shape"
   ]
  },
  {
   "cell_type": "raw",
   "id": "508772c6",
   "metadata": {},
   "source": [
    "Check if there are any null values in data"
   ]
  },
  {
   "cell_type": "code",
   "execution_count": 7,
   "id": "2d0fd9e4",
   "metadata": {},
   "outputs": [
    {
     "data": {
      "text/plain": [
       "Cement                0\n",
       "Blast Furnace Slag    0\n",
       "Fly Ash               0\n",
       "Water                 0\n",
       "Superplasticizer      0\n",
       "Coarse Aggregate      0\n",
       "Fine Aggregate        0\n",
       "Age                   0\n",
       "Strength              0\n",
       "dtype: int64"
      ]
     },
     "execution_count": 7,
     "metadata": {},
     "output_type": "execute_result"
    }
   ],
   "source": [
    "data.isnull().sum()"
   ]
  },
  {
   "cell_type": "code",
   "execution_count": 15,
   "id": "df6a711a",
   "metadata": {},
   "outputs": [],
   "source": [
    "#segregate X(predictors) and y(target) from data\n",
    "X = data[data.columns[data.columns != 'Strength']]\n",
    "y = data['Strength']\n",
    "n_inputs = X.shape[1]"
   ]
  },
  {
   "cell_type": "code",
   "execution_count": 9,
   "id": "b20d2b62",
   "metadata": {},
   "outputs": [],
   "source": [
    "#normalising data\n",
    "X = (X - X.mean())/X.std()"
   ]
  },
  {
   "cell_type": "code",
   "execution_count": 17,
   "id": "024f39c5",
   "metadata": {},
   "outputs": [],
   "source": [
    "#import keras library\n",
    "import keras\n",
    "from keras.models import Sequential\n",
    "from keras.layers import Dense"
   ]
  },
  {
   "cell_type": "code",
   "execution_count": 32,
   "id": "fb7d7bef",
   "metadata": {},
   "outputs": [],
   "source": [
    "#defining a method to create a sequential model\n",
    "#arguments:\n",
    "#n_ip - numbers of inputs\n",
    "#n_hiddenLayers - number of hidden layers in model\n",
    "#n_hiddenLayerUnits - An array, with ith element specifying the number of units contained in ith hidden layer\n",
    "def regModel(n_ip,n_hiddenLayers,n_hiddenLayerUnits ):\n",
    "    model = Sequential()\n",
    "    model.add(Dense(n_hiddenLayerUnits[0], activation='relu', input_shape=(n_ip,)))\n",
    "    if n_hiddenLayers > 1:    \n",
    "        for i in range(1, n_hiddenLayers):   \n",
    "            model.add(Dense(n_hiddenLayerUnits[i], activation='relu'))\n",
    "    model.add(Dense(1))\n",
    "    model.compile(optimizer='adam', loss='mean_squared_error')\n",
    "    return model"
   ]
  },
  {
   "cell_type": "code",
   "execution_count": 34,
   "id": "de6148c5",
   "metadata": {},
   "outputs": [],
   "source": [
    "model = regModel(n_inputs, 1, [10])"
   ]
  },
  {
   "cell_type": "code",
   "execution_count": 35,
   "id": "4242074e",
   "metadata": {},
   "outputs": [
    {
     "name": "stdout",
     "output_type": "stream",
     "text": [
      "Epoch 1/50\n",
      "23/23 [==============================] - 1s 12ms/step - loss: 19392.9648 - val_loss: 8631.8184\n",
      "Epoch 2/50\n",
      "23/23 [==============================] - 0s 3ms/step - loss: 7240.9971 - val_loss: 3644.2458\n",
      "Epoch 3/50\n",
      "23/23 [==============================] - 0s 4ms/step - loss: 5849.4683 - val_loss: 3361.2324\n",
      "Epoch 4/50\n",
      "23/23 [==============================] - 0s 4ms/step - loss: 5283.4272 - val_loss: 3155.5771\n",
      "Epoch 5/50\n",
      "23/23 [==============================] - 0s 4ms/step - loss: 4845.2495 - val_loss: 2827.1018\n",
      "Epoch 6/50\n",
      "23/23 [==============================] - 0s 4ms/step - loss: 4444.6816 - val_loss: 2586.0913\n",
      "Epoch 7/50\n",
      "23/23 [==============================] - 0s 4ms/step - loss: 4084.2109 - val_loss: 2390.7832\n",
      "Epoch 8/50\n",
      "23/23 [==============================] - 0s 3ms/step - loss: 3752.8950 - val_loss: 2167.8591\n",
      "Epoch 9/50\n",
      "23/23 [==============================] - 0s 5ms/step - loss: 3452.9900 - val_loss: 1977.5283\n",
      "Epoch 10/50\n",
      "23/23 [==============================] - 0s 3ms/step - loss: 3191.9490 - val_loss: 1840.7427\n",
      "Epoch 11/50\n",
      "23/23 [==============================] - 0s 4ms/step - loss: 2939.8606 - val_loss: 1690.6578\n",
      "Epoch 12/50\n",
      "23/23 [==============================] - 0s 4ms/step - loss: 2717.3945 - val_loss: 1601.7395\n",
      "Epoch 13/50\n",
      "23/23 [==============================] - 0s 4ms/step - loss: 2505.3428 - val_loss: 1461.4713\n",
      "Epoch 14/50\n",
      "23/23 [==============================] - 0s 9ms/step - loss: 2322.5044 - val_loss: 1396.0221\n",
      "Epoch 15/50\n",
      "23/23 [==============================] - 0s 9ms/step - loss: 2150.5452 - val_loss: 1309.9293\n",
      "Epoch 16/50\n",
      "23/23 [==============================] - 0s 10ms/step - loss: 1998.0477 - val_loss: 1230.7705\n",
      "Epoch 17/50\n",
      "23/23 [==============================] - 0s 8ms/step - loss: 1854.7520 - val_loss: 1158.6217\n",
      "Epoch 18/50\n",
      "23/23 [==============================] - 0s 6ms/step - loss: 1725.3234 - val_loss: 1111.6786\n",
      "Epoch 19/50\n",
      "23/23 [==============================] - 0s 5ms/step - loss: 1605.3357 - val_loss: 1053.0173\n",
      "Epoch 20/50\n",
      "23/23 [==============================] - 0s 4ms/step - loss: 1495.9382 - val_loss: 1032.4148\n",
      "Epoch 21/50\n",
      "23/23 [==============================] - 0s 4ms/step - loss: 1393.1053 - val_loss: 977.1373\n",
      "Epoch 22/50\n",
      "23/23 [==============================] - 0s 4ms/step - loss: 1304.8958 - val_loss: 959.8907\n",
      "Epoch 23/50\n",
      "23/23 [==============================] - 0s 5ms/step - loss: 1218.5857 - val_loss: 921.1996\n",
      "Epoch 24/50\n",
      "23/23 [==============================] - 0s 5ms/step - loss: 1142.7238 - val_loss: 905.9298\n",
      "Epoch 25/50\n",
      "23/23 [==============================] - 0s 4ms/step - loss: 1068.9437 - val_loss: 860.3065\n",
      "Epoch 26/50\n",
      "23/23 [==============================] - 0s 4ms/step - loss: 1003.6603 - val_loss: 827.1260\n",
      "Epoch 27/50\n",
      "23/23 [==============================] - 0s 5ms/step - loss: 943.2142 - val_loss: 824.7228\n",
      "Epoch 28/50\n",
      "23/23 [==============================] - 0s 4ms/step - loss: 889.0091 - val_loss: 775.2255\n",
      "Epoch 29/50\n",
      "23/23 [==============================] - 0s 4ms/step - loss: 836.4252 - val_loss: 755.4694\n",
      "Epoch 30/50\n",
      "23/23 [==============================] - 0s 5ms/step - loss: 789.0444 - val_loss: 732.6640\n",
      "Epoch 31/50\n",
      "23/23 [==============================] - 0s 6ms/step - loss: 744.0809 - val_loss: 707.9711\n",
      "Epoch 32/50\n",
      "23/23 [==============================] - 0s 6ms/step - loss: 704.4025 - val_loss: 685.5088\n",
      "Epoch 33/50\n",
      "23/23 [==============================] - 0s 6ms/step - loss: 666.7805 - val_loss: 661.0572\n",
      "Epoch 34/50\n",
      "23/23 [==============================] - 0s 5ms/step - loss: 630.5319 - val_loss: 628.7440\n",
      "Epoch 35/50\n",
      "23/23 [==============================] - 0s 8ms/step - loss: 594.4033 - val_loss: 627.8729\n",
      "Epoch 36/50\n",
      "23/23 [==============================] - 0s 6ms/step - loss: 568.3275 - val_loss: 577.2112\n",
      "Epoch 37/50\n",
      "23/23 [==============================] - 0s 4ms/step - loss: 539.0369 - val_loss: 546.9962\n",
      "Epoch 38/50\n",
      "23/23 [==============================] - 0s 4ms/step - loss: 510.9393 - val_loss: 525.6394\n",
      "Epoch 39/50\n",
      "23/23 [==============================] - 0s 4ms/step - loss: 483.4028 - val_loss: 522.3162\n",
      "Epoch 40/50\n",
      "23/23 [==============================] - 0s 6ms/step - loss: 456.8102 - val_loss: 504.4623\n",
      "Epoch 41/50\n",
      "23/23 [==============================] - 0s 6ms/step - loss: 433.7313 - val_loss: 453.3593\n",
      "Epoch 42/50\n",
      "23/23 [==============================] - 0s 6ms/step - loss: 412.9091 - val_loss: 425.0753\n",
      "Epoch 43/50\n",
      "23/23 [==============================] - 0s 6ms/step - loss: 391.2985 - val_loss: 414.5962\n",
      "Epoch 44/50\n",
      "23/23 [==============================] - 0s 6ms/step - loss: 372.6909 - val_loss: 407.0988\n",
      "Epoch 45/50\n",
      "23/23 [==============================] - 0s 5ms/step - loss: 353.2546 - val_loss: 371.2689\n",
      "Epoch 46/50\n",
      "23/23 [==============================] - 0s 6ms/step - loss: 333.3661 - val_loss: 343.3000\n",
      "Epoch 47/50\n",
      "23/23 [==============================] - 0s 6ms/step - loss: 318.0327 - val_loss: 313.7236\n",
      "Epoch 48/50\n",
      "23/23 [==============================] - 0s 5ms/step - loss: 302.7024 - val_loss: 296.5020\n",
      "Epoch 49/50\n",
      "23/23 [==============================] - 0s 5ms/step - loss: 287.5792 - val_loss: 296.9781\n",
      "Epoch 50/50\n",
      "23/23 [==============================] - 0s 5ms/step - loss: 275.2312 - val_loss: 288.0079\n"
     ]
    },
    {
     "data": {
      "text/plain": [
       "<keras.callbacks.History at 0x7fc9395d34f0>"
      ]
     },
     "execution_count": 35,
     "metadata": {},
     "output_type": "execute_result"
    }
   ],
   "source": [
    "model.fit(X,y,validation_split = 0.3, epochs= 50, verbose = 1)"
   ]
  },
  {
   "cell_type": "code",
   "execution_count": null,
   "id": "b9d58f47",
   "metadata": {},
   "outputs": [],
   "source": []
  }
 ],
 "metadata": {
  "kernelspec": {
   "display_name": "Python 3 (ipykernel)",
   "language": "python",
   "name": "python3"
  },
  "language_info": {
   "codemirror_mode": {
    "name": "ipython",
    "version": 3
   },
   "file_extension": ".py",
   "mimetype": "text/x-python",
   "name": "python",
   "nbconvert_exporter": "python",
   "pygments_lexer": "ipython3",
   "version": "3.9.9"
  }
 },
 "nbformat": 4,
 "nbformat_minor": 5
}
