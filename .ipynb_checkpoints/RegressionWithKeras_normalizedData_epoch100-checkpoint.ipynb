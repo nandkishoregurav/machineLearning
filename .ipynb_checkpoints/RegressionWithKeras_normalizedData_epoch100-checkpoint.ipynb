{
 "cells": [
  {
   "cell_type": "code",
   "execution_count": 1,
   "id": "b7f57981",
   "metadata": {},
   "outputs": [],
   "source": [
    "#importing required libraries\n",
    "import pandas as pd\n",
    "import numpy as np\n",
    "import keras\n",
    "from sklearn.model_selection import train_test_split\n",
    "from keras.models import Sequential\n",
    "from keras.layers import Dense\n",
    "from sklearn.metrics import mean_squared_error"
   ]
  },
  {
   "cell_type": "code",
   "execution_count": 2,
   "id": "d772a872",
   "metadata": {},
   "outputs": [
    {
     "data": {
      "text/plain": [
       "Cement                0\n",
       "Blast Furnace Slag    0\n",
       "Fly Ash               0\n",
       "Water                 0\n",
       "Superplasticizer      0\n",
       "Coarse Aggregate      0\n",
       "Fine Aggregate        0\n",
       "Age                   0\n",
       "Strength              0\n",
       "dtype: int64"
      ]
     },
     "execution_count": 2,
     "metadata": {},
     "output_type": "execute_result"
    }
   ],
   "source": [
    "#Import and clean data if required.\n",
    "data = pd.read_csv('https://cocl.us/concrete_data')\n",
    "data.isnull().sum()"
   ]
  },
  {
   "cell_type": "code",
   "execution_count": 3,
   "id": "df6a711a",
   "metadata": {},
   "outputs": [],
   "source": [
    "#segregate X(predictors) and y(target) from data\n",
    "X = data[data.columns[data.columns != 'Strength']]\n",
    "y = data['Strength']\n",
    "n_inputs = X.shape[1]\n",
    "#normalising data\n",
    "X = (X - X.mean())/X.std()"
   ]
  },
  {
   "cell_type": "code",
   "execution_count": 4,
   "id": "fb7d7bef",
   "metadata": {},
   "outputs": [],
   "source": [
    "#defining a method to create a sequential model\n",
    "#arguments:\n",
    "#n_ip - numbers of inputs\n",
    "#n_hiddenLayers - number of hidden layers in model\n",
    "#n_hiddenLayerUnits - An array, with ith element specifying the number of units contained in ith hidden layer\n",
    "def regModel(n_ip,n_hiddenLayers,n_hiddenLayerUnits ):\n",
    "    model = Sequential()\n",
    "    model.add(Dense(n_hiddenLayerUnits[0], activation='relu', input_shape=(n_ip,)))\n",
    "    if n_hiddenLayers > 1:    \n",
    "        for i in range(1, n_hiddenLayers):   \n",
    "            model.add(Dense(n_hiddenLayerUnits[i], activation='relu'))\n",
    "    model.add(Dense(1))\n",
    "    model.compile(optimizer='adam', loss='mean_squared_error')\n",
    "    return model"
   ]
  },
  {
   "cell_type": "code",
   "execution_count": 7,
   "id": "4242074e",
   "metadata": {},
   "outputs": [],
   "source": [
    "#loop around\n",
    "mseArr = np.zeros(50)\n",
    "for i in range(0,50):\n",
    "    X_train, X_test, y_train, y_test = train_test_split(X, y, test_size=0.3, random_state=2)\n",
    "    model = regModel(n_inputs, 1, [10])\n",
    "    model.fit(X_train,y_train, epochs= 100, verbose = 0)\n",
    "    y_pred = model.predict(X_test,verbose = 0)\n",
    "    mseArr[i] = mean_squared_error(y_test,y_pred)"
   ]
  },
  {
   "cell_type": "code",
   "execution_count": 6,
   "id": "b9d58f47",
   "metadata": {},
   "outputs": [
    {
     "name": "stdout",
     "output_type": "stream",
     "text": [
      "Mean of mean squared errors is  163.60832655278944  and standard deviation is  15.513953337799995\n"
     ]
    }
   ],
   "source": [
    "meanOfMSE = mseArr.mean()\n",
    "stdOfMSE = mseArr.std()\n",
    "\n",
    "print(\"Mean of mean squared errors is \", meanOfMSE,\" and standard deviation is \", stdOfMSE)"
   ]
  },
  {
   "cell_type": "code",
   "execution_count": null,
   "id": "8f544806",
   "metadata": {},
   "outputs": [],
   "source": []
  }
 ],
 "metadata": {
  "kernelspec": {
   "display_name": "Python 3 (ipykernel)",
   "language": "python",
   "name": "python3"
  },
  "language_info": {
   "codemirror_mode": {
    "name": "ipython",
    "version": 3
   },
   "file_extension": ".py",
   "mimetype": "text/x-python",
   "name": "python",
   "nbconvert_exporter": "python",
   "pygments_lexer": "ipython3",
   "version": "3.9.9"
  }
 },
 "nbformat": 4,
 "nbformat_minor": 5
}
