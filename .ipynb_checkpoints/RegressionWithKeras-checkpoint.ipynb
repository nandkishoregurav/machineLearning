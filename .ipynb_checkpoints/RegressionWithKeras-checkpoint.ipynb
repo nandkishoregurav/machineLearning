{
 "cells": [
  {
   "cell_type": "markdown",
   "id": "d8a1bb42",
   "metadata": {},
   "source": []
  },
  {
   "cell_type": "code",
   "execution_count": 5,
   "id": "b7f57981",
   "metadata": {},
   "outputs": [
    {
     "data": {
      "text/html": [
       "<div>\n",
       "<style scoped>\n",
       "    .dataframe tbody tr th:only-of-type {\n",
       "        vertical-align: middle;\n",
       "    }\n",
       "\n",
       "    .dataframe tbody tr th {\n",
       "        vertical-align: top;\n",
       "    }\n",
       "\n",
       "    .dataframe thead th {\n",
       "        text-align: right;\n",
       "    }\n",
       "</style>\n",
       "<table border=\"1\" class=\"dataframe\">\n",
       "  <thead>\n",
       "    <tr style=\"text-align: right;\">\n",
       "      <th></th>\n",
       "      <th>Cement</th>\n",
       "      <th>Blast Furnace Slag</th>\n",
       "      <th>Fly Ash</th>\n",
       "      <th>Water</th>\n",
       "      <th>Superplasticizer</th>\n",
       "      <th>Coarse Aggregate</th>\n",
       "      <th>Fine Aggregate</th>\n",
       "      <th>Age</th>\n",
       "      <th>Strength</th>\n",
       "    </tr>\n",
       "  </thead>\n",
       "  <tbody>\n",
       "    <tr>\n",
       "      <th>0</th>\n",
       "      <td>540.0</td>\n",
       "      <td>0.0</td>\n",
       "      <td>0.0</td>\n",
       "      <td>162.0</td>\n",
       "      <td>2.5</td>\n",
       "      <td>1040.0</td>\n",
       "      <td>676.0</td>\n",
       "      <td>28</td>\n",
       "      <td>79.99</td>\n",
       "    </tr>\n",
       "    <tr>\n",
       "      <th>1</th>\n",
       "      <td>540.0</td>\n",
       "      <td>0.0</td>\n",
       "      <td>0.0</td>\n",
       "      <td>162.0</td>\n",
       "      <td>2.5</td>\n",
       "      <td>1055.0</td>\n",
       "      <td>676.0</td>\n",
       "      <td>28</td>\n",
       "      <td>61.89</td>\n",
       "    </tr>\n",
       "    <tr>\n",
       "      <th>2</th>\n",
       "      <td>332.5</td>\n",
       "      <td>142.5</td>\n",
       "      <td>0.0</td>\n",
       "      <td>228.0</td>\n",
       "      <td>0.0</td>\n",
       "      <td>932.0</td>\n",
       "      <td>594.0</td>\n",
       "      <td>270</td>\n",
       "      <td>40.27</td>\n",
       "    </tr>\n",
       "    <tr>\n",
       "      <th>3</th>\n",
       "      <td>332.5</td>\n",
       "      <td>142.5</td>\n",
       "      <td>0.0</td>\n",
       "      <td>228.0</td>\n",
       "      <td>0.0</td>\n",
       "      <td>932.0</td>\n",
       "      <td>594.0</td>\n",
       "      <td>365</td>\n",
       "      <td>41.05</td>\n",
       "    </tr>\n",
       "    <tr>\n",
       "      <th>4</th>\n",
       "      <td>198.6</td>\n",
       "      <td>132.4</td>\n",
       "      <td>0.0</td>\n",
       "      <td>192.0</td>\n",
       "      <td>0.0</td>\n",
       "      <td>978.4</td>\n",
       "      <td>825.5</td>\n",
       "      <td>360</td>\n",
       "      <td>44.30</td>\n",
       "    </tr>\n",
       "  </tbody>\n",
       "</table>\n",
       "</div>"
      ],
      "text/plain": [
       "   Cement  Blast Furnace Slag  Fly Ash  Water  Superplasticizer  \\\n",
       "0   540.0                 0.0      0.0  162.0               2.5   \n",
       "1   540.0                 0.0      0.0  162.0               2.5   \n",
       "2   332.5               142.5      0.0  228.0               0.0   \n",
       "3   332.5               142.5      0.0  228.0               0.0   \n",
       "4   198.6               132.4      0.0  192.0               0.0   \n",
       "\n",
       "   Coarse Aggregate  Fine Aggregate  Age  Strength  \n",
       "0            1040.0           676.0   28     79.99  \n",
       "1            1055.0           676.0   28     61.89  \n",
       "2             932.0           594.0  270     40.27  \n",
       "3             932.0           594.0  365     41.05  \n",
       "4             978.4           825.5  360     44.30  "
      ]
     },
     "execution_count": 5,
     "metadata": {},
     "output_type": "execute_result"
    }
   ],
   "source": [
    "#importing pandas and numpy to handle input data\n",
    "import pandas as pd\n",
    "import numpy as np\n",
    "data = pd.read_csv('https://cocl.us/concrete_data')\n",
    "data.head()"
   ]
  },
  {
   "cell_type": "raw",
   "id": "7e0c7aa7",
   "metadata": {},
   "source": [
    "Check size of data:"
   ]
  },
  {
   "cell_type": "code",
   "execution_count": 6,
   "id": "d772a872",
   "metadata": {},
   "outputs": [
    {
     "data": {
      "text/plain": [
       "(1030, 9)"
      ]
     },
     "execution_count": 6,
     "metadata": {},
     "output_type": "execute_result"
    }
   ],
   "source": [
    "data.shape"
   ]
  },
  {
   "cell_type": "raw",
   "id": "508772c6",
   "metadata": {},
   "source": [
    "Check if there are any null values in data"
   ]
  },
  {
   "cell_type": "code",
   "execution_count": 7,
   "id": "2d0fd9e4",
   "metadata": {},
   "outputs": [
    {
     "data": {
      "text/plain": [
       "Cement                0\n",
       "Blast Furnace Slag    0\n",
       "Fly Ash               0\n",
       "Water                 0\n",
       "Superplasticizer      0\n",
       "Coarse Aggregate      0\n",
       "Fine Aggregate        0\n",
       "Age                   0\n",
       "Strength              0\n",
       "dtype: int64"
      ]
     },
     "execution_count": 7,
     "metadata": {},
     "output_type": "execute_result"
    }
   ],
   "source": [
    "data.isnull().sum()"
   ]
  },
  {
   "cell_type": "code",
   "execution_count": 15,
   "id": "df6a711a",
   "metadata": {},
   "outputs": [],
   "source": [
    "#segregate X(predictors) and y(target) from data\n",
    "X = data[data.columns[data.columns != 'Strength']]\n",
    "y = data['Strength']\n",
    "n_inputs = X.shape[1]"
   ]
  },
  {
   "cell_type": "code",
   "execution_count": 9,
   "id": "b20d2b62",
   "metadata": {},
   "outputs": [],
   "source": [
    "#normalising data\n",
    "X = (X - X.mean())/X.std()"
   ]
  },
  {
   "cell_type": "code",
   "execution_count": 17,
   "id": "024f39c5",
   "metadata": {},
   "outputs": [],
   "source": [
    "#import keras library\n",
    "import keras\n",
    "from keras.models import Sequential\n",
    "from keras.layers import Dense"
   ]
  },
  {
   "cell_type": "code",
   "execution_count": 20,
   "id": "fb7d7bef",
   "metadata": {},
   "outputs": [],
   "source": [
    "#defining a method to create a sequential model\n",
    "#arguments:\n",
    "#n_ip - numbers of inputs\n",
    "#n_hiddenLayers - number of hidden layers in model\n",
    "#n_hiddenLayerUnits - An array, with ith element specifying the number of units contained in ith hidden layer\n",
    "def regModel(n_ip,n_hiddenLayers,n_hiddenLayerUnits ):\n",
    "    model = Sequential()\n",
    "    model.add(Dense(n_hiddenLayerUnits[0], activation='relu', input_shape=(n_ip,)))\n",
    "    if n_hiddenLayers > 1:    \n",
    "        for i in range(1, n_hiddenLayers):   \n",
    "            model.add(Dense(n_hiddenLayerUnits[i], activation='relu'))\n",
    "    model.add(Dense(1))\n",
    "    model.compile(optimizer='adam', loss='mean_squared_error')\n",
    "    return model"
   ]
  },
  {
   "cell_type": "code",
   "execution_count": 26,
   "id": "621c9928",
   "metadata": {},
   "outputs": [],
   "source": [
    "model = regModel(n_inputs, 1, [10])"
   ]
  },
  {
   "cell_type": "code",
   "execution_count": 30,
   "id": "113808f8",
   "metadata": {},
   "outputs": [
    {
     "name": "stdout",
     "output_type": "stream",
     "text": [
      "Epoch 1/50\n",
      "23/23 [==============================] - 0s 6ms/step - loss: 26.0023 - val_loss: 217.6720\n",
      "Epoch 2/50\n",
      "23/23 [==============================] - 0s 5ms/step - loss: 26.9317 - val_loss: 148.5265\n",
      "Epoch 3/50\n",
      "23/23 [==============================] - 0s 4ms/step - loss: 27.7696 - val_loss: 123.6743\n",
      "Epoch 4/50\n",
      "23/23 [==============================] - 0s 4ms/step - loss: 23.5445 - val_loss: 183.9982\n",
      "Epoch 5/50\n",
      "23/23 [==============================] - 0s 6ms/step - loss: 24.0455 - val_loss: 115.3853\n",
      "Epoch 6/50\n",
      "23/23 [==============================] - 0s 5ms/step - loss: 27.3899 - val_loss: 156.3993\n",
      "Epoch 7/50\n",
      "23/23 [==============================] - 0s 5ms/step - loss: 27.6300 - val_loss: 114.6007\n",
      "Epoch 8/50\n",
      "23/23 [==============================] - 0s 4ms/step - loss: 28.1918 - val_loss: 182.8447\n",
      "Epoch 9/50\n",
      "23/23 [==============================] - 0s 5ms/step - loss: 24.6311 - val_loss: 132.9487\n",
      "Epoch 10/50\n",
      "23/23 [==============================] - 0s 4ms/step - loss: 23.4943 - val_loss: 172.5829\n",
      "Epoch 11/50\n",
      "23/23 [==============================] - 0s 4ms/step - loss: 22.8039 - val_loss: 152.9096\n",
      "Epoch 12/50\n",
      "23/23 [==============================] - 0s 5ms/step - loss: 25.7694 - val_loss: 160.2525\n",
      "Epoch 13/50\n",
      "23/23 [==============================] - 0s 9ms/step - loss: 25.2185 - val_loss: 168.0167\n",
      "Epoch 14/50\n",
      "23/23 [==============================] - 0s 11ms/step - loss: 24.8220 - val_loss: 162.7545\n",
      "Epoch 15/50\n",
      "23/23 [==============================] - 0s 6ms/step - loss: 27.2645 - val_loss: 160.5796\n",
      "Epoch 16/50\n",
      "23/23 [==============================] - 0s 5ms/step - loss: 24.1824 - val_loss: 139.0175\n",
      "Epoch 17/50\n",
      "23/23 [==============================] - 0s 6ms/step - loss: 23.6622 - val_loss: 159.7769\n",
      "Epoch 18/50\n",
      "23/23 [==============================] - 0s 7ms/step - loss: 26.0139 - val_loss: 168.6356\n",
      "Epoch 19/50\n",
      "23/23 [==============================] - 0s 6ms/step - loss: 28.1910 - val_loss: 133.4172\n",
      "Epoch 20/50\n",
      "23/23 [==============================] - 0s 6ms/step - loss: 26.0538 - val_loss: 219.9241\n",
      "Epoch 21/50\n",
      "23/23 [==============================] - 0s 8ms/step - loss: 30.5178 - val_loss: 158.0271\n",
      "Epoch 22/50\n",
      "23/23 [==============================] - 0s 6ms/step - loss: 24.8862 - val_loss: 144.1913\n",
      "Epoch 23/50\n",
      "23/23 [==============================] - 0s 5ms/step - loss: 24.5255 - val_loss: 170.0800\n",
      "Epoch 24/50\n",
      "23/23 [==============================] - 0s 4ms/step - loss: 23.9397 - val_loss: 162.7978\n",
      "Epoch 25/50\n",
      "23/23 [==============================] - 0s 5ms/step - loss: 29.5004 - val_loss: 166.7665\n",
      "Epoch 26/50\n",
      "23/23 [==============================] - 0s 5ms/step - loss: 27.3898 - val_loss: 131.4570\n",
      "Epoch 27/50\n",
      "23/23 [==============================] - 0s 5ms/step - loss: 26.9534 - val_loss: 156.0129\n",
      "Epoch 28/50\n",
      "23/23 [==============================] - 0s 5ms/step - loss: 23.4960 - val_loss: 174.2032\n",
      "Epoch 29/50\n",
      "23/23 [==============================] - 0s 4ms/step - loss: 23.6638 - val_loss: 178.9976\n",
      "Epoch 30/50\n",
      "23/23 [==============================] - 0s 6ms/step - loss: 23.5926 - val_loss: 182.4366\n",
      "Epoch 31/50\n",
      "23/23 [==============================] - 0s 7ms/step - loss: 23.9532 - val_loss: 144.2467\n",
      "Epoch 32/50\n",
      "23/23 [==============================] - 0s 5ms/step - loss: 23.7647 - val_loss: 159.0207\n",
      "Epoch 33/50\n",
      "23/23 [==============================] - 0s 5ms/step - loss: 22.7602 - val_loss: 167.3619\n",
      "Epoch 34/50\n",
      "23/23 [==============================] - 0s 5ms/step - loss: 23.1220 - val_loss: 164.9702\n",
      "Epoch 35/50\n",
      "23/23 [==============================] - 0s 6ms/step - loss: 23.3037 - val_loss: 189.2135\n",
      "Epoch 36/50\n",
      "23/23 [==============================] - 0s 6ms/step - loss: 25.4286 - val_loss: 211.3325\n",
      "Epoch 37/50\n",
      "23/23 [==============================] - 0s 6ms/step - loss: 25.3583 - val_loss: 195.0365\n",
      "Epoch 38/50\n",
      "23/23 [==============================] - 0s 13ms/step - loss: 23.6284 - val_loss: 143.9734\n",
      "Epoch 39/50\n",
      "23/23 [==============================] - 0s 9ms/step - loss: 22.8829 - val_loss: 190.5102\n",
      "Epoch 40/50\n",
      "23/23 [==============================] - 0s 6ms/step - loss: 23.5879 - val_loss: 185.3509\n",
      "Epoch 41/50\n",
      "23/23 [==============================] - 0s 6ms/step - loss: 27.3469 - val_loss: 139.7444\n",
      "Epoch 42/50\n",
      "23/23 [==============================] - 0s 6ms/step - loss: 23.9241 - val_loss: 169.8953\n",
      "Epoch 43/50\n",
      "23/23 [==============================] - 0s 6ms/step - loss: 26.2777 - val_loss: 149.6625\n",
      "Epoch 44/50\n",
      "23/23 [==============================] - 0s 6ms/step - loss: 29.4230 - val_loss: 140.0743\n",
      "Epoch 45/50\n",
      "23/23 [==============================] - 0s 6ms/step - loss: 25.4686 - val_loss: 149.8204\n",
      "Epoch 46/50\n",
      "23/23 [==============================] - 0s 5ms/step - loss: 23.4596 - val_loss: 159.4146\n",
      "Epoch 47/50\n",
      "23/23 [==============================] - 0s 4ms/step - loss: 23.4713 - val_loss: 153.5285\n",
      "Epoch 48/50\n",
      "23/23 [==============================] - 0s 4ms/step - loss: 21.9462 - val_loss: 176.9157\n",
      "Epoch 49/50\n",
      "23/23 [==============================] - 0s 5ms/step - loss: 22.3528 - val_loss: 177.6013\n",
      "Epoch 50/50\n",
      "23/23 [==============================] - 0s 6ms/step - loss: 23.0845 - val_loss: 170.3554\n"
     ]
    },
    {
     "data": {
      "text/plain": [
       "<keras.callbacks.History at 0x7fc93956c610>"
      ]
     },
     "execution_count": 30,
     "metadata": {},
     "output_type": "execute_result"
    }
   ],
   "source": [
    "model.fit(X,y,validation_split = 0.3, epochs= 50, verbose = 1)"
   ]
  },
  {
   "cell_type": "code",
   "execution_count": null,
   "id": "52cf70b7",
   "metadata": {},
   "outputs": [],
   "source": []
  }
 ],
 "metadata": {
  "kernelspec": {
   "display_name": "Python 3 (ipykernel)",
   "language": "python",
   "name": "python3"
  },
  "language_info": {
   "codemirror_mode": {
    "name": "ipython",
    "version": 3
   },
   "file_extension": ".py",
   "mimetype": "text/x-python",
   "name": "python",
   "nbconvert_exporter": "python",
   "pygments_lexer": "ipython3",
   "version": "3.9.9"
  }
 },
 "nbformat": 4,
 "nbformat_minor": 5
}
