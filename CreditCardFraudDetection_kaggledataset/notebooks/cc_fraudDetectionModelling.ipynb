{
 "cells": [
  {
   "cell_type": "raw",
   "id": "12a25503",
   "metadata": {},
   "source": [
    "We will implement a Random forest classifier."
   ]
  },
  {
   "cell_type": "code",
   "execution_count": 27,
   "id": "81e02c62",
   "metadata": {},
   "outputs": [
    {
     "name": "stdout",
     "output_type": "stream",
     "text": [
      "Collecting tensorflow_probability\n",
      "  Downloading tensorflow_probability-0.16.0-py2.py3-none-any.whl (6.3 MB)\n",
      "     ---------------------------------------- 6.3/6.3 MB 8.8 MB/s eta 0:00:00\n",
      "Requirement already satisfied: gast>=0.3.2 in c:\\users\\chava\\appdata\\local\\programs\\python\\python39\\lib\\site-packages (from tensorflow_probability) (0.5.3)\n",
      "Collecting dm-tree\n",
      "  Downloading dm_tree-0.1.6-cp39-cp39-win_amd64.whl (74 kB)\n",
      "     ---------------------------------------- 74.9/74.9 KB 4.0 MB/s eta 0:00:00\n",
      "Requirement already satisfied: decorator in c:\\users\\chava\\appdata\\local\\programs\\python\\python39\\lib\\site-packages (from tensorflow_probability) (5.1.1)\n",
      "Requirement already satisfied: absl-py in c:\\users\\chava\\appdata\\local\\programs\\python\\python39\\lib\\site-packages (from tensorflow_probability) (1.0.0)\n",
      "Requirement already satisfied: numpy>=1.13.3 in c:\\users\\chava\\appdata\\local\\programs\\python\\python39\\lib\\site-packages (from tensorflow_probability) (1.22.2)\n",
      "Requirement already satisfied: six>=1.10.0 in c:\\users\\chava\\appdata\\local\\programs\\python\\python39\\lib\\site-packages (from tensorflow_probability) (1.16.0)\n",
      "Collecting cloudpickle>=1.3\n",
      "  Downloading cloudpickle-2.0.0-py3-none-any.whl (25 kB)\n",
      "Installing collected packages: dm-tree, cloudpickle, tensorflow_probability\n",
      "Successfully installed cloudpickle-2.0.0 dm-tree-0.1.6 tensorflow_probability-0.16.0\n",
      "Note: you may need to restart the kernel to use updated packages.\n"
     ]
    }
   ],
   "source": [
    "pip install tensorflow_probability"
   ]
  },
  {
   "cell_type": "code",
   "execution_count": 29,
   "id": "455bd71c",
   "metadata": {},
   "outputs": [],
   "source": [
    "import pandas as pd\n",
    "from sklearn.ensemble import RandomForestClassifier\n",
    "from sklearn.model_selection import train_test_split\n",
    "from sklearn.metrics import classification_report, accuracy_score \n",
    "from sklearn.metrics import precision_score, recall_score\n",
    "from sklearn.metrics import f1_score, matthews_corrcoef\n",
    "from sklearn.metrics import confusion_matrix\n",
    "import math as m\n",
    "import tensorflow_probability as tfp"
   ]
  },
  {
   "cell_type": "code",
   "execution_count": 3,
   "id": "0499d775",
   "metadata": {},
   "outputs": [
    {
     "name": "stdout",
     "output_type": "stream",
     "text": [
      "precision : 0.9302325581395349\n",
      "recall    : 0.7453416149068323\n",
      "f1 score  : 0.8275862068965516\n",
      "[[85273     9]\n",
      " [   41   120]]\n"
     ]
    }
   ],
   "source": [
    "df = pd.read_csv(\"../data/raw/creditcard.csv\")\n",
    "X = df.drop(['Class'], axis =1)\n",
    "Y = df['Class']\n",
    "\n",
    "xTrain, xTest, yTrain, yTest = train_test_split(X,Y,test_size = 0.3, random_state = 32)\n",
    "rfc = RandomForestClassifier()\n",
    "rfc.fit(xTrain,yTrain)\n",
    "yPred = rfc.predict(xTest)\n",
    "\n",
    "precision = precision_score(yTest, yPred)\n",
    "recall = recall_score(yTest,yPred)\n",
    "f1 = f1_score(yTest,yPred)\n",
    "print(\"precision : {}\".format(precision))\n",
    "print(\"recall    : {}\".format(recall))\n",
    "print(\"f1 score  : {}\".format(f1))\n",
    "conf_matrix = confusion_matrix(yTest, yPred)\n",
    "\n",
    "print(conf_matrix)"
   ]
  },
  {
   "cell_type": "raw",
   "id": "ad52b92d",
   "metadata": {},
   "source": [
    "Gaussian Mixture model"
   ]
  },
  {
   "cell_type": "code",
   "execution_count": 102,
   "id": "d3505b1c",
   "metadata": {},
   "outputs": [
    {
     "name": "stdout",
     "output_type": "stream",
     "text": [
      "precision : 0.0004091957443642586\n",
      "recall    : 0.13664596273291926\n",
      "f1 score  : 0.0008159480760315252\n",
      "[[31540 53742]\n",
      " [  139    22]]\n"
     ]
    }
   ],
   "source": [
    "from sklearn.mixture import GaussianMixture\n",
    "model = GaussianMixture(n_components = 2, init_params = \"random\")\n",
    "model.fit(xTrain, yTrain)\n",
    "yPred = model.predict(xTest)\n",
    "\n",
    "precision = precision_score(yTest, yPred)\n",
    "recall = recall_score(yTest,yPred)\n",
    "f1 = f1_score(yTest,yPred)\n",
    "print(\"precision : {}\".format(precision))\n",
    "print(\"recall    : {}\".format(recall))\n",
    "print(\"f1 score  : {}\".format(f1))\n",
    "conf_matrix = confusion_matrix(yTest, yPred)\n",
    "\n",
    "print(conf_matrix)\n",
    "    "
   ]
  },
  {
   "cell_type": "code",
   "execution_count": null,
   "id": "bc8e442a",
   "metadata": {},
   "outputs": [],
   "source": []
  }
 ],
 "metadata": {
  "kernelspec": {
   "display_name": "Python 3 (ipykernel)",
   "language": "python",
   "name": "python3"
  },
  "language_info": {
   "codemirror_mode": {
    "name": "ipython",
    "version": 3
   },
   "file_extension": ".py",
   "mimetype": "text/x-python",
   "name": "python",
   "nbconvert_exporter": "python",
   "pygments_lexer": "ipython3",
   "version": "3.9.0"
  }
 },
 "nbformat": 4,
 "nbformat_minor": 5
}
