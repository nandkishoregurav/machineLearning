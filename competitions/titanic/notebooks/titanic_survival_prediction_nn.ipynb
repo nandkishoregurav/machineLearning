{
 "cells": [
  {
   "cell_type": "markdown",
   "id": "67c567b8",
   "metadata": {},
   "source": [
    "# This notebook creates a model to predict whether or not a give passenger from titanic surived the sinking of the ship"
   ]
  },
  {
   "cell_type": "raw",
   "id": "19b235fd",
   "metadata": {},
   "source": [
    "First we will include all required libraries."
   ]
  },
  {
   "cell_type": "code",
   "execution_count": 1,
   "id": "e96c8166",
   "metadata": {},
   "outputs": [],
   "source": [
    "#importing required libraries\n",
    "import pandas as pd\n",
    "import numpy as np\n",
    "import keras\n",
    "from sklearn.model_selection import train_test_split\n",
    "from keras.models import Sequential\n",
    "from keras.layers import Dense\n",
    "from sklearn.metrics import mean_squared_error\n",
    "from sklearn.preprocessing import StandardScaler"
   ]
  },
  {
   "cell_type": "code",
   "execution_count": 2,
   "id": "283b9df8",
   "metadata": {},
   "outputs": [
    {
     "data": {
      "text/html": [
       "<div>\n",
       "<style scoped>\n",
       "    .dataframe tbody tr th:only-of-type {\n",
       "        vertical-align: middle;\n",
       "    }\n",
       "\n",
       "    .dataframe tbody tr th {\n",
       "        vertical-align: top;\n",
       "    }\n",
       "\n",
       "    .dataframe thead th {\n",
       "        text-align: right;\n",
       "    }\n",
       "</style>\n",
       "<table border=\"1\" class=\"dataframe\">\n",
       "  <thead>\n",
       "    <tr style=\"text-align: right;\">\n",
       "      <th></th>\n",
       "      <th>PassengerId</th>\n",
       "      <th>Survived</th>\n",
       "      <th>Pclass</th>\n",
       "      <th>Name</th>\n",
       "      <th>Sex</th>\n",
       "      <th>Age</th>\n",
       "      <th>SibSp</th>\n",
       "      <th>Parch</th>\n",
       "      <th>Ticket</th>\n",
       "      <th>Fare</th>\n",
       "      <th>Cabin</th>\n",
       "      <th>Embarked</th>\n",
       "    </tr>\n",
       "  </thead>\n",
       "  <tbody>\n",
       "    <tr>\n",
       "      <th>0</th>\n",
       "      <td>1</td>\n",
       "      <td>0</td>\n",
       "      <td>3</td>\n",
       "      <td>Braund, Mr. Owen Harris</td>\n",
       "      <td>male</td>\n",
       "      <td>22.0</td>\n",
       "      <td>1</td>\n",
       "      <td>0</td>\n",
       "      <td>A/5 21171</td>\n",
       "      <td>7.2500</td>\n",
       "      <td>NaN</td>\n",
       "      <td>S</td>\n",
       "    </tr>\n",
       "    <tr>\n",
       "      <th>1</th>\n",
       "      <td>2</td>\n",
       "      <td>1</td>\n",
       "      <td>1</td>\n",
       "      <td>Cumings, Mrs. John Bradley (Florence Briggs Th...</td>\n",
       "      <td>female</td>\n",
       "      <td>38.0</td>\n",
       "      <td>1</td>\n",
       "      <td>0</td>\n",
       "      <td>PC 17599</td>\n",
       "      <td>71.2833</td>\n",
       "      <td>C85</td>\n",
       "      <td>C</td>\n",
       "    </tr>\n",
       "    <tr>\n",
       "      <th>2</th>\n",
       "      <td>3</td>\n",
       "      <td>1</td>\n",
       "      <td>3</td>\n",
       "      <td>Heikkinen, Miss. Laina</td>\n",
       "      <td>female</td>\n",
       "      <td>26.0</td>\n",
       "      <td>0</td>\n",
       "      <td>0</td>\n",
       "      <td>STON/O2. 3101282</td>\n",
       "      <td>7.9250</td>\n",
       "      <td>NaN</td>\n",
       "      <td>S</td>\n",
       "    </tr>\n",
       "    <tr>\n",
       "      <th>3</th>\n",
       "      <td>4</td>\n",
       "      <td>1</td>\n",
       "      <td>1</td>\n",
       "      <td>Futrelle, Mrs. Jacques Heath (Lily May Peel)</td>\n",
       "      <td>female</td>\n",
       "      <td>35.0</td>\n",
       "      <td>1</td>\n",
       "      <td>0</td>\n",
       "      <td>113803</td>\n",
       "      <td>53.1000</td>\n",
       "      <td>C123</td>\n",
       "      <td>S</td>\n",
       "    </tr>\n",
       "    <tr>\n",
       "      <th>4</th>\n",
       "      <td>5</td>\n",
       "      <td>0</td>\n",
       "      <td>3</td>\n",
       "      <td>Allen, Mr. William Henry</td>\n",
       "      <td>male</td>\n",
       "      <td>35.0</td>\n",
       "      <td>0</td>\n",
       "      <td>0</td>\n",
       "      <td>373450</td>\n",
       "      <td>8.0500</td>\n",
       "      <td>NaN</td>\n",
       "      <td>S</td>\n",
       "    </tr>\n",
       "  </tbody>\n",
       "</table>\n",
       "</div>"
      ],
      "text/plain": [
       "   PassengerId  Survived  Pclass  \\\n",
       "0            1         0       3   \n",
       "1            2         1       1   \n",
       "2            3         1       3   \n",
       "3            4         1       1   \n",
       "4            5         0       3   \n",
       "\n",
       "                                                Name     Sex   Age  SibSp  \\\n",
       "0                            Braund, Mr. Owen Harris    male  22.0      1   \n",
       "1  Cumings, Mrs. John Bradley (Florence Briggs Th...  female  38.0      1   \n",
       "2                             Heikkinen, Miss. Laina  female  26.0      0   \n",
       "3       Futrelle, Mrs. Jacques Heath (Lily May Peel)  female  35.0      1   \n",
       "4                           Allen, Mr. William Henry    male  35.0      0   \n",
       "\n",
       "   Parch            Ticket     Fare Cabin Embarked  \n",
       "0      0         A/5 21171   7.2500   NaN        S  \n",
       "1      0          PC 17599  71.2833   C85        C  \n",
       "2      0  STON/O2. 3101282   7.9250   NaN        S  \n",
       "3      0            113803  53.1000  C123        S  \n",
       "4      0            373450   8.0500   NaN        S  "
      ]
     },
     "execution_count": 2,
     "metadata": {},
     "output_type": "execute_result"
    }
   ],
   "source": [
    "df = pd.read_csv('../data/train.csv')\n",
    "df.head()"
   ]
  },
  {
   "cell_type": "raw",
   "id": "754318ab",
   "metadata": {},
   "source": [
    "Check if any record has null values."
   ]
  },
  {
   "cell_type": "code",
   "execution_count": 3,
   "id": "83d9ad56",
   "metadata": {},
   "outputs": [
    {
     "name": "stderr",
     "output_type": "stream",
     "text": [
      "/Library/Frameworks/Python.framework/Versions/3.9/lib/python3.9/site-packages/pandas/core/generic.py:6619: SettingWithCopyWarning: \n",
      "A value is trying to be set on a copy of a slice from a DataFrame\n",
      "\n",
      "See the caveats in the documentation: https://pandas.pydata.org/pandas-docs/stable/user_guide/indexing.html#returning-a-view-versus-a-copy\n",
      "  return self._update_inplace(result)\n",
      "/var/folders/cr/8prlvf3s72s0svfyz60fww1m0000gn/T/ipykernel_36617/3699482097.py:5: SettingWithCopyWarning: \n",
      "A value is trying to be set on a copy of a slice from a DataFrame.\n",
      "Try using .loc[row_indexer,col_indexer] = value instead\n",
      "\n",
      "See the caveats in the documentation: https://pandas.pydata.org/pandas-docs/stable/user_guide/indexing.html#returning-a-view-versus-a-copy\n",
      "  X['Cabin_Block'] = X['Cabin'].str.slice(0,1)\n",
      "/var/folders/cr/8prlvf3s72s0svfyz60fww1m0000gn/T/ipykernel_36617/3699482097.py:6: SettingWithCopyWarning: \n",
      "A value is trying to be set on a copy of a slice from a DataFrame.\n",
      "Try using .loc[row_indexer,col_indexer] = value instead\n",
      "\n",
      "See the caveats in the documentation: https://pandas.pydata.org/pandas-docs/stable/user_guide/indexing.html#returning-a-view-versus-a-copy\n",
      "  X['Cabin_Block'] = X['Cabin_Block'].fillna('X', inplace = False)\n",
      "/Library/Frameworks/Python.framework/Versions/3.9/lib/python3.9/site-packages/pandas/core/frame.py:4906: SettingWithCopyWarning: \n",
      "A value is trying to be set on a copy of a slice from a DataFrame\n",
      "\n",
      "See the caveats in the documentation: https://pandas.pydata.org/pandas-docs/stable/user_guide/indexing.html#returning-a-view-versus-a-copy\n",
      "  return super().drop(\n"
     ]
    },
    {
     "data": {
      "text/plain": [
       "Pclass         0\n",
       "Sex            0\n",
       "Age            0\n",
       "SibSp          0\n",
       "Parch          0\n",
       "Cabin_Block    0\n",
       "dtype: int64"
      ]
     },
     "execution_count": 3,
     "metadata": {},
     "output_type": "execute_result"
    }
   ],
   "source": [
    "features = ['Pclass', 'Sex', 'Age', 'SibSp', 'Parch','Cabin' ]\n",
    "X = df[features]\n",
    "gender_dict = {'male':1, 'female':2}\n",
    "X['Sex'].replace(gender_dict, inplace = True)\n",
    "X['Cabin_Block'] = X['Cabin'].str.slice(0,1)\n",
    "X['Cabin_Block'] = X['Cabin_Block'].fillna('X', inplace = False)\n",
    "block_dict = {'X': 0, 'C' : 1, 'E' : 2, 'G': 3, 'D' : 4, 'A' : 5, 'B': 6, 'F': 7, 'T': 8}\n",
    "X['Cabin_Block'].replace(block_dict, inplace = True)\n",
    "X.drop('Cabin', axis =1, inplace = True)\n",
    "X = X.fillna(X.mean())\n",
    "X.isnull().sum()"
   ]
  },
  {
   "cell_type": "raw",
   "id": "680b743a",
   "metadata": {},
   "source": [
    "As we can see, three columns viz. Age, Cabin and Embarked contains null values.Hence, while preprocessing we will only use following columns for training our model:\n",
    "Pclass\n",
    "SibSp\n",
    "Parch\n",
    "Fare\n",
    "Sex (We will replace male with 1 and female with 2\n",
    "Age (We will replace null values with mean value for that column)"
   ]
  },
  {
   "cell_type": "code",
   "execution_count": 4,
   "id": "809758fe",
   "metadata": {},
   "outputs": [],
   "source": [
    "X = StandardScaler().fit_transform(X)"
   ]
  },
  {
   "cell_type": "code",
   "execution_count": 5,
   "id": "19350c41",
   "metadata": {},
   "outputs": [
    {
     "name": "stdout",
     "output_type": "stream",
     "text": [
      "Number of rows in training set is 891\n",
      "number of inouts is 6\n"
     ]
    }
   ],
   "source": [
    "y = df['Survived']\n",
    "n_inputs = X.shape[1]\n",
    "#normalising data\n",
    "print('Number of rows in training set is {}'.format(y.shape[0]))\n",
    "print('number of inouts is {}'.format(X.shape[1]))"
   ]
  },
  {
   "cell_type": "code",
   "execution_count": 6,
   "id": "f0302f03",
   "metadata": {},
   "outputs": [],
   "source": [
    "#defining a method to create a sequential model\n",
    "#arguments:\n",
    "#n_ip - numbers of inputs\n",
    "#n_hiddenLayers - number of hidden layers in model\n",
    "#n_hiddenLayerUnits - An array, with ith element specifying the number of units contained in ith hidden layer\n",
    "def regModel(n_ip,n_hiddenLayers,n_hiddenLayerUnits ):\n",
    "    model = Sequential()\n",
    "    model.add(Dense(n_hiddenLayerUnits[0], activation='relu', input_shape=(n_ip,)))\n",
    "    if n_hiddenLayers > 1:    \n",
    "        for i in range(1, n_hiddenLayers):   \n",
    "            model.add(Dense(n_hiddenLayerUnits[i], activation='relu'))\n",
    "    model.add(Dense(1))\n",
    "    model.compile(optimizer='adam', loss='mean_squared_error')\n",
    "    return model"
   ]
  },
  {
   "cell_type": "code",
   "execution_count": 10,
   "id": "dd99435b",
   "metadata": {},
   "outputs": [],
   "source": [
    "#loop around\n",
    "#mseArr = np.zeros(50)\n",
    "#acc = np.zeros(50)\n",
    "#for i in range(0,50):\n",
    "X_train, X_test, y_train, y_test = train_test_split(X, y, test_size=0.3, random_state=2)\n",
    "model = regModel(n_inputs, 2, [10, 5])\n",
    "model.fit(X_train,y_train, epochs= 200, verbose = 0)\n",
    "y_pred = model.predict(X_test,verbose = 0)\n",
    "y_pred = np.round(y_pred)\n",
    "mseArr = mean_squared_error(y_test,y_pred)\n",
    "acc = (sum(y_pred[:,0] == y_test)*100)/len(y_test)\n"
   ]
  },
  {
   "cell_type": "code",
   "execution_count": 11,
   "id": "09a5e411",
   "metadata": {},
   "outputs": [
    {
     "name": "stdout",
     "output_type": "stream",
     "text": [
      "mean of mse is 0.20522388059701493\n",
      "mean accuracy is 79.4776119402985\n"
     ]
    }
   ],
   "source": [
    "print('mean of mse is {}'.format(mseArr))\n",
    "print('mean accuracy is {}'.format(acc))"
   ]
  },
  {
   "cell_type": "markdown",
   "id": "1e8311e1",
   "metadata": {},
   "source": [
    "# Adding age to input"
   ]
  },
  {
   "cell_type": "code",
   "execution_count": 9,
   "id": "311abdd9",
   "metadata": {},
   "outputs": [
    {
     "data": {
      "text/plain": [
       "PassengerId      0\n",
       "Pclass           0\n",
       "Name             0\n",
       "Sex              0\n",
       "Age             86\n",
       "SibSp            0\n",
       "Parch            0\n",
       "Ticket           0\n",
       "Fare             1\n",
       "Cabin          327\n",
       "Embarked         0\n",
       "dtype: int64"
      ]
     },
     "execution_count": 9,
     "metadata": {},
     "output_type": "execute_result"
    }
   ],
   "source": [
    "data_pred = pd.read_csv('../data/test.csv')\n",
    "data_pred.isnull().sum()"
   ]
  },
  {
   "cell_type": "code",
   "execution_count": 238,
   "id": "44b9c308",
   "metadata": {},
   "outputs": [
    {
     "name": "stdout",
     "output_type": "stream",
     "text": [
      "Number of rows in testing set is 418\n"
     ]
    }
   ],
   "source": [
    "X_pred = data_pred[['Pclass','SibSp','Parch','Fare','Sex','Age','Cabin']]\n",
    "X_pred['Sex'].replace(to_replace='male', value=1, inplace=True)\n",
    "X_pred['Sex'].replace(to_replace='female', value=2, inplace=True)\n",
    "X_pred = X_pred.fillna(X_pred.mean())\n",
    "print('Number of rows in testing set is {}'.format(X_pred.shape[0]))\n",
    "\n"
   ]
  },
  {
   "cell_type": "code",
   "execution_count": 239,
   "id": "5810019c",
   "metadata": {},
   "outputs": [],
   "source": [
    "\n",
    "#normalising data\n",
    "X_pred = (X_pred - X_pred.mean())/X_pred.std()\n",
    "y_pred = model.predict(X_pred)"
   ]
  },
  {
   "cell_type": "code",
   "execution_count": 240,
   "id": "b7065c25",
   "metadata": {},
   "outputs": [],
   "source": [
    "final_sub = pd.DataFrame()\n",
    "final_sub['PassengerId'] = data_pred['PassengerId']\n",
    "final_sub['Survived'] = np.round(y_pred).astype('int')\n",
    "final_sub.to_csv('../data/submission.csv')"
   ]
  },
  {
   "cell_type": "code",
   "execution_count": null,
   "id": "b78e5b95",
   "metadata": {},
   "outputs": [],
   "source": []
  },
  {
   "cell_type": "code",
   "execution_count": null,
   "id": "13a26eb1",
   "metadata": {},
   "outputs": [],
   "source": []
  },
  {
   "cell_type": "code",
   "execution_count": null,
   "id": "56748f9c",
   "metadata": {},
   "outputs": [],
   "source": []
  }
 ],
 "metadata": {
  "kernelspec": {
   "display_name": "Python 3 (ipykernel)",
   "language": "python",
   "name": "python3"
  },
  "language_info": {
   "codemirror_mode": {
    "name": "ipython",
    "version": 3
   },
   "file_extension": ".py",
   "mimetype": "text/x-python",
   "name": "python",
   "nbconvert_exporter": "python",
   "pygments_lexer": "ipython3",
   "version": "3.9.9"
  }
 },
 "nbformat": 4,
 "nbformat_minor": 5
}
