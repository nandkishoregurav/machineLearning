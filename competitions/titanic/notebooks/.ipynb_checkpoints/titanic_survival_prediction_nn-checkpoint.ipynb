{
 "cells": [
  {
   "cell_type": "markdown",
   "id": "c462c0cd",
   "metadata": {},
   "source": [
    "# This notebook creates a model to predict whether or not a give passenger from titanic surived the sinking of the ship"
   ]
  },
  {
   "cell_type": "raw",
   "id": "24875c3d",
   "metadata": {},
   "source": [
    "First we will include all required libraries."
   ]
  },
  {
   "cell_type": "code",
   "execution_count": 188,
   "id": "73510f0a",
   "metadata": {},
   "outputs": [],
   "source": [
    "#importing required libraries\n",
    "import pandas as pd\n",
    "import numpy as np\n",
    "import keras\n",
    "from sklearn.model_selection import train_test_split\n",
    "from keras.models import Sequential\n",
    "from keras.layers import Dense\n",
    "from sklearn.metrics import mean_squared_error\n",
    "from sklearn.preprocessing import StandardScaler"
   ]
  },
  {
   "cell_type": "code",
   "execution_count": 189,
   "id": "0c5fc9f5",
   "metadata": {},
   "outputs": [
    {
     "name": "stdout",
     "output_type": "stream",
     "text": [
      "Number of records in training data is 891\n"
     ]
    }
   ],
   "source": [
    "df = pd.read_csv('../data/train.csv')\n",
    "df.head()"
   ]
  },
  {
   "cell_type": "raw",
   "id": "bf7b60d2",
   "metadata": {},
   "source": [
    "Check if any record has null values."
   ]
  },
  {
   "cell_type": "code",
   "execution_count": 190,
   "id": "667e31c5",
   "metadata": {},
   "outputs": [
    {
     "data": {
      "text/plain": [
       "PassengerId      0\n",
       "Survived         0\n",
       "Pclass           0\n",
       "Name             0\n",
       "Sex              0\n",
       "Age            177\n",
       "SibSp            0\n",
       "Parch            0\n",
       "Ticket           0\n",
       "Fare             0\n",
       "Cabin          687\n",
       "Embarked         2\n",
       "dtype: int64"
      ]
     },
     "execution_count": 190,
     "metadata": {},
     "output_type": "execute_result"
    }
   ],
   "source": [
    "features = ['Pclass', 'Sex', 'Age', 'SibSp', 'Parch','Cabin' ]\n",
    "X = df[features]\n",
    "gender_dict = {'male':1, 'female':2}\n",
    "X['Sex'].replace(gender_dict, inplace = True)\n",
    "X['Cabin_Block'] = X['Cabin'].str.slice(0,1)\n",
    "X['Cabin_Block'] = X['Cabin_Block'].fillna('X', inplace = False)\n",
    "block_dict = {'X': 0, 'C' : 1, 'E' : 2, 'G': 3, 'D' : 4, 'A' : 5, 'B': 6, 'F': 7, 'T': 8}\n",
    "X['Cabin_Block'].replace(block_dict, inplace = True)\n",
    "X.drop('Cabin', axis =1, inplace = True)\n",
    "X = X.fillna(X.mean())\n",
    "X.isnull().sum()"
   ]
  },
  {
   "cell_type": "raw",
   "id": "fc0733e6",
   "metadata": {},
   "source": [
    "As we can see, three columns viz. Age, Cabin and Embarked contains null values.Hence, while preprocessing we will only use following columns for training our model:\n",
    "Pclass\n",
    "SibSp\n",
    "Parch\n",
    "Fare\n",
    "Sex (We will replace male with 1 and female with 2\n",
    "Age (We will replace null values with mean value for that column)"
   ]
  },
  {
   "cell_type": "code",
   "execution_count": 228,
   "id": "a008a1b4",
   "metadata": {},
   "outputs": [
    {
     "name": "stdout",
     "output_type": "stream",
     "text": [
      "Number of rows in training set is 891\n"
     ]
    }
   ],
   "source": [
    "X = StandardScaler().fit_transform(X)"
   ]
  },
  {
   "cell_type": "code",
   "execution_count": 229,
   "id": "4aed3b5a",
   "metadata": {},
   "outputs": [
    {
     "name": "stdout",
     "output_type": "stream",
     "text": [
      "Number of rows in training set is 891\n",
      "number of inouts is 6\n"
     ]
    }
   ],
   "source": [
    "y = df['Survived']\n",
    "n_inputs = X.shape[1]\n",
    "#normalising data\n",
    "print('Number of rows in training set is {}'.format(y.shape[0]))\n",
    "print('number of inouts is {}'.format(X.shape[1]))"
   ]
  },
  {
   "cell_type": "code",
   "execution_count": 230,
   "id": "eed11e34",
   "metadata": {},
   "outputs": [],
   "source": [
    "#defining a method to create a sequential model\n",
    "#arguments:\n",
    "#n_ip - numbers of inputs\n",
    "#n_hiddenLayers - number of hidden layers in model\n",
    "#n_hiddenLayerUnits - An array, with ith element specifying the number of units contained in ith hidden layer\n",
    "def regModel(n_ip,n_hiddenLayers,n_hiddenLayerUnits ):\n",
    "    model = Sequential()\n",
    "    model.add(Dense(n_hiddenLayerUnits[0], activation='relu', input_shape=(n_ip,)))\n",
    "    if n_hiddenLayers > 1:    \n",
    "        for i in range(1, n_hiddenLayers):   \n",
    "            model.add(Dense(n_hiddenLayerUnits[i], activation='relu'))\n",
    "    model.add(Dense(1))\n",
    "    model.compile(optimizer='adam', loss='mean_squared_error')\n",
    "    return model"
   ]
  },
  {
   "cell_type": "code",
   "execution_count": 231,
   "id": "a5a7291a",
   "metadata": {},
   "outputs": [],
   "source": [
    "#loop around\n",
    "#mseArr = np.zeros(50)\n",
    "#acc = np.zeros(50)\n",
    "#for i in range(0,50):\n",
    "X_train, X_test, y_train, y_test = train_test_split(X, y, test_size=0.3, random_state=2)\n",
    "model = regModel(n_inputs, 2, [10, 5])\n",
    "model.fit(X_train,y_train, epochs= 200, verbose = 0)\n",
    "y_pred = model.predict(X_test,verbose = 0)\n",
    "y_pred = np.round(y_pred)\n",
    "mseArr = mean_squared_error(y_test,y_pred)\n",
    "acc = (sum(y_pred[:,0] == y_test)*100)/len(y_test)\n"
   ]
  },
  {
   "cell_type": "code",
   "execution_count": 232,
   "id": "761b75e2",
   "metadata": {},
   "outputs": [
    {
     "name": "stdout",
     "output_type": "stream",
     "text": [
      "mean of mse is 0.19776119402985073\n",
      "mean accuracy is 80.22388059701493\n"
     ]
    }
   ],
   "source": [
    "print('mean of mse is {}'.format(mseArr))\n",
    "print('mean accuracy is {}'.format(acc))"
   ]
  },
  {
   "cell_type": "markdown",
   "id": "07d182ca",
   "metadata": {},
   "source": [
    "# Adding age to input"
   ]
  },
  {
   "cell_type": "code",
   "execution_count": 233,
   "id": "06c8f3ec",
   "metadata": {},
   "outputs": [
    {
     "data": {
      "text/plain": [
       "PassengerId      0\n",
       "Pclass           0\n",
       "Name             0\n",
       "Sex              0\n",
       "Age             86\n",
       "SibSp            0\n",
       "Parch            0\n",
       "Ticket           0\n",
       "Fare             1\n",
       "Cabin          327\n",
       "Embarked         0\n",
       "dtype: int64"
      ]
     },
     "execution_count": 233,
     "metadata": {},
     "output_type": "execute_result"
    }
   ],
   "source": [
    "data_pred = pd.read_csv('../data/test.csv')\n",
    "data_pred.isnull().sum()"
   ]
  },
  {
   "cell_type": "code",
   "execution_count": 238,
   "id": "731f2ad7",
   "metadata": {},
   "outputs": [
    {
     "name": "stdout",
     "output_type": "stream",
     "text": [
      "Number of rows in testing set is 418\n"
     ]
    }
   ],
   "source": [
    "X_pred = data_pred[['Pclass','SibSp','Parch','Fare','Sex','Age']]\n",
    "X_pred['Sex'].replace(to_replace='male', value=1, inplace=True)\n",
    "X_pred['Sex'].replace(to_replace='female', value=2, inplace=True)\n",
    "X_pred = X_pred.fillna(X_pred.mean())\n",
    "print('Number of rows in testing set is {}'.format(X_pred.shape[0]))\n",
    "\n"
   ]
  },
  {
   "cell_type": "code",
   "execution_count": 239,
   "id": "8898e8a4",
   "metadata": {},
   "outputs": [],
   "source": [
    "\n",
    "#normalising data\n",
    "X_pred = (X_pred - X_pred.mean())/X_pred.std()\n",
    "y_pred = model.predict(X_pred)"
   ]
  },
  {
   "cell_type": "code",
   "execution_count": 240,
   "id": "fda962b5",
   "metadata": {},
   "outputs": [],
   "source": [
    "final_sub = pd.DataFrame()\n",
    "final_sub['PassengerId'] = data_pred['PassengerId']\n",
    "final_sub['Survived'] = np.round(y_pred).astype('int')\n",
    "final_sub.to_csv('../data/submission.csv')"
   ]
  },
  {
   "cell_type": "code",
   "execution_count": null,
   "id": "d184f75b",
   "metadata": {},
   "outputs": [],
   "source": []
  },
  {
   "cell_type": "code",
   "execution_count": null,
   "id": "53dee02d",
   "metadata": {},
   "outputs": [],
   "source": []
  },
  {
   "cell_type": "code",
   "execution_count": null,
   "id": "5dbf4d8f",
   "metadata": {},
   "outputs": [],
   "source": []
  }
 ],
 "metadata": {
  "kernelspec": {
   "display_name": "Python 3 (ipykernel)",
   "language": "python",
   "name": "python3"
  },
  "language_info": {
   "codemirror_mode": {
    "name": "ipython",
    "version": 3
   },
   "file_extension": ".py",
   "mimetype": "text/x-python",
   "name": "python",
   "nbconvert_exporter": "python",
   "pygments_lexer": "ipython3",
   "version": "3.9.9"
  }
 },
 "nbformat": 4,
 "nbformat_minor": 5
}
